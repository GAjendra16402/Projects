{
  "cells": [
    {
      "cell_type": "markdown",
      "metadata": {
        "id": "vjpk-srokZ6_"
      },
      "source": []
    },
    {
      "cell_type": "code",
      "execution_count": null,
      "metadata": {
        "id": "2qr6iX4hiem7"
      },
      "outputs": [],
      "source": [
        "import yfinance as yf"
      ]
    },
    {
      "cell_type": "code",
      "execution_count": null,
      "metadata": {
        "id": "vdeCs8BNmBav"
      },
      "outputs": [],
      "source": [
        "import pandas as pd\n",
        "import datetime\n",
        "from datetime import date, timedelta\n",
        "today = date.today()"
      ]
    },
    {
      "cell_type": "code",
      "execution_count": null,
      "metadata": {
        "colab": {
          "base_uri": "https://localhost:8080/"
        },
        "id": "7Qb1PWTimMHh",
        "outputId": "efe87a51-25ec-45d6-fcea-ed99c174bc76"
      },
      "outputs": [
        {
          "name": "stdout",
          "output_type": "stream",
          "text": [
            "\r[*********************100%%**********************]  1 of 1 completed\n"
          ]
        }
      ],
      "source": [
        "d1 = today.strftime('%Y-%m-%d')\n",
        "end_date = d1\n",
        "d2 = date.today() - timedelta(days = 5000)\n",
        "d2 = d2.strftime('%Y-%m-%d')\n",
        "start_date = d2\n",
        "\n",
        "data = yf.download('AAPL',\n",
        "                   start = start_date,\n",
        "                   end = end_date)"
      ]
    },
    {
      "cell_type": "code",
      "execution_count": null,
      "metadata": {
        "id": "uKsl5TPM5rrA"
      },
      "outputs": [],
      "source": [
        "import numpy as np\n"
      ]
    },
    {
      "cell_type": "code",
      "execution_count": null,
      "metadata": {
        "colab": {
          "base_uri": "https://localhost:8080/",
          "height": 73
        },
        "id": "AY99LA8G54XU",
        "outputId": "033c9743-bca9-46f0-b4e3-cc785d241c2f"
      },
      "outputs": [
        {
          "data": {
            "text/html": [
              "\n",
              "     <input type=\"file\" id=\"files-ef284588-df76-4175-abe6-010d68205ed3\" name=\"files[]\" multiple disabled\n",
              "        style=\"border:none\" />\n",
              "     <output id=\"result-ef284588-df76-4175-abe6-010d68205ed3\">\n",
              "      Upload widget is only available when the cell has been executed in the\n",
              "      current browser session. Please rerun this cell to enable.\n",
              "      </output>\n",
              "      <script>// Copyright 2017 Google LLC\n",
              "//\n",
              "// Licensed under the Apache License, Version 2.0 (the \"License\");\n",
              "// you may not use this file except in compliance with the License.\n",
              "// You may obtain a copy of the License at\n",
              "//\n",
              "//      http://www.apache.org/licenses/LICENSE-2.0\n",
              "//\n",
              "// Unless required by applicable law or agreed to in writing, software\n",
              "// distributed under the License is distributed on an \"AS IS\" BASIS,\n",
              "// WITHOUT WARRANTIES OR CONDITIONS OF ANY KIND, either express or implied.\n",
              "// See the License for the specific language governing permissions and\n",
              "// limitations under the License.\n",
              "\n",
              "/**\n",
              " * @fileoverview Helpers for google.colab Python module.\n",
              " */\n",
              "(function(scope) {\n",
              "function span(text, styleAttributes = {}) {\n",
              "  const element = document.createElement('span');\n",
              "  element.textContent = text;\n",
              "  for (const key of Object.keys(styleAttributes)) {\n",
              "    element.style[key] = styleAttributes[key];\n",
              "  }\n",
              "  return element;\n",
              "}\n",
              "\n",
              "// Max number of bytes which will be uploaded at a time.\n",
              "const MAX_PAYLOAD_SIZE = 100 * 1024;\n",
              "\n",
              "function _uploadFiles(inputId, outputId) {\n",
              "  const steps = uploadFilesStep(inputId, outputId);\n",
              "  const outputElement = document.getElementById(outputId);\n",
              "  // Cache steps on the outputElement to make it available for the next call\n",
              "  // to uploadFilesContinue from Python.\n",
              "  outputElement.steps = steps;\n",
              "\n",
              "  return _uploadFilesContinue(outputId);\n",
              "}\n",
              "\n",
              "// This is roughly an async generator (not supported in the browser yet),\n",
              "// where there are multiple asynchronous steps and the Python side is going\n",
              "// to poll for completion of each step.\n",
              "// This uses a Promise to block the python side on completion of each step,\n",
              "// then passes the result of the previous step as the input to the next step.\n",
              "function _uploadFilesContinue(outputId) {\n",
              "  const outputElement = document.getElementById(outputId);\n",
              "  const steps = outputElement.steps;\n",
              "\n",
              "  const next = steps.next(outputElement.lastPromiseValue);\n",
              "  return Promise.resolve(next.value.promise).then((value) => {\n",
              "    // Cache the last promise value to make it available to the next\n",
              "    // step of the generator.\n",
              "    outputElement.lastPromiseValue = value;\n",
              "    return next.value.response;\n",
              "  });\n",
              "}\n",
              "\n",
              "/**\n",
              " * Generator function which is called between each async step of the upload\n",
              " * process.\n",
              " * @param {string} inputId Element ID of the input file picker element.\n",
              " * @param {string} outputId Element ID of the output display.\n",
              " * @return {!Iterable<!Object>} Iterable of next steps.\n",
              " */\n",
              "function* uploadFilesStep(inputId, outputId) {\n",
              "  const inputElement = document.getElementById(inputId);\n",
              "  inputElement.disabled = false;\n",
              "\n",
              "  const outputElement = document.getElementById(outputId);\n",
              "  outputElement.innerHTML = '';\n",
              "\n",
              "  const pickedPromise = new Promise((resolve) => {\n",
              "    inputElement.addEventListener('change', (e) => {\n",
              "      resolve(e.target.files);\n",
              "    });\n",
              "  });\n",
              "\n",
              "  const cancel = document.createElement('button');\n",
              "  inputElement.parentElement.appendChild(cancel);\n",
              "  cancel.textContent = 'Cancel upload';\n",
              "  const cancelPromise = new Promise((resolve) => {\n",
              "    cancel.onclick = () => {\n",
              "      resolve(null);\n",
              "    };\n",
              "  });\n",
              "\n",
              "  // Wait for the user to pick the files.\n",
              "  const files = yield {\n",
              "    promise: Promise.race([pickedPromise, cancelPromise]),\n",
              "    response: {\n",
              "      action: 'starting',\n",
              "    }\n",
              "  };\n",
              "\n",
              "  cancel.remove();\n",
              "\n",
              "  // Disable the input element since further picks are not allowed.\n",
              "  inputElement.disabled = true;\n",
              "\n",
              "  if (!files) {\n",
              "    return {\n",
              "      response: {\n",
              "        action: 'complete',\n",
              "      }\n",
              "    };\n",
              "  }\n",
              "\n",
              "  for (const file of files) {\n",
              "    const li = document.createElement('li');\n",
              "    li.append(span(file.name, {fontWeight: 'bold'}));\n",
              "    li.append(span(\n",
              "        `(${file.type || 'n/a'}) - ${file.size} bytes, ` +\n",
              "        `last modified: ${\n",
              "            file.lastModifiedDate ? file.lastModifiedDate.toLocaleDateString() :\n",
              "                                    'n/a'} - `));\n",
              "    const percent = span('0% done');\n",
              "    li.appendChild(percent);\n",
              "\n",
              "    outputElement.appendChild(li);\n",
              "\n",
              "    const fileDataPromise = new Promise((resolve) => {\n",
              "      const reader = new FileReader();\n",
              "      reader.onload = (e) => {\n",
              "        resolve(e.target.result);\n",
              "      };\n",
              "      reader.readAsArrayBuffer(file);\n",
              "    });\n",
              "    // Wait for the data to be ready.\n",
              "    let fileData = yield {\n",
              "      promise: fileDataPromise,\n",
              "      response: {\n",
              "        action: 'continue',\n",
              "      }\n",
              "    };\n",
              "\n",
              "    // Use a chunked sending to avoid message size limits. See b/62115660.\n",
              "    let position = 0;\n",
              "    do {\n",
              "      const length = Math.min(fileData.byteLength - position, MAX_PAYLOAD_SIZE);\n",
              "      const chunk = new Uint8Array(fileData, position, length);\n",
              "      position += length;\n",
              "\n",
              "      const base64 = btoa(String.fromCharCode.apply(null, chunk));\n",
              "      yield {\n",
              "        response: {\n",
              "          action: 'append',\n",
              "          file: file.name,\n",
              "          data: base64,\n",
              "        },\n",
              "      };\n",
              "\n",
              "      let percentDone = fileData.byteLength === 0 ?\n",
              "          100 :\n",
              "          Math.round((position / fileData.byteLength) * 100);\n",
              "      percent.textContent = `${percentDone}% done`;\n",
              "\n",
              "    } while (position < fileData.byteLength);\n",
              "  }\n",
              "\n",
              "  // All done.\n",
              "  yield {\n",
              "    response: {\n",
              "      action: 'complete',\n",
              "    }\n",
              "  };\n",
              "}\n",
              "\n",
              "scope.google = scope.google || {};\n",
              "scope.google.colab = scope.google.colab || {};\n",
              "scope.google.colab._files = {\n",
              "  _uploadFiles,\n",
              "  _uploadFilesContinue,\n",
              "};\n",
              "})(self);\n",
              "</script> "
            ],
            "text/plain": [
              "<IPython.core.display.HTML object>"
            ]
          },
          "metadata": {},
          "output_type": "display_data"
        },
        {
          "name": "stdout",
          "output_type": "stream",
          "text": [
            "Saving sherlock-holm.es_stories_plain-text_advs.txt to sherlock-holm.es_stories_plain-text_advs (1).txt\n"
          ]
        }
      ],
      "source": [
        "from google.colab import files\n",
        "path_to_file = list(files.upload().keys())[0]"
      ]
    },
    {
      "cell_type": "code",
      "execution_count": null,
      "metadata": {
        "id": "U8LA0Vjz6CL3"
      },
      "outputs": [],
      "source": [
        "# read the text file\n",
        "with open(path_to_file, 'r', encoding='utf-8') as file:\n",
        "  text = file.read()"
      ]
    },
    {
      "cell_type": "code",
      "execution_count": null,
      "metadata": {
        "id": "-55xAoZ16U09"
      },
      "outputs": [],
      "source": [
        "import tensorflow as tf\n"
      ]
    },
    {
      "cell_type": "code",
      "execution_count": null,
      "metadata": {
        "id": "P_pRdaGd6dVZ"
      },
      "outputs": [],
      "source": [
        "from tensorflow.keras.preprocessing.text import Tokenizer\n",
        "from tensorflow.keras.preprocessing.sequence import pad_sequences\n",
        "from tensorflow.keras.models import Sequential\n",
        "from tensorflow.keras.layers import Embedding, LSTM, Dense"
      ]
    },
    {
      "cell_type": "code",
      "execution_count": null,
      "metadata": {
        "id": "nFIQgP0c7Gnb"
      },
      "outputs": [],
      "source": [
        "# now let's tokenize the text to create a sequence of words\n",
        "\n",
        "tokenizer = Tokenizer()\n",
        "\n",
        "tokenizer.fit_on_texts([text])\n",
        "\n",
        "total_words = len(tokenizer.word_index) +1"
      ]
    },
    {
      "cell_type": "code",
      "execution_count": null,
      "metadata": {
        "id": "2h_6jMRc74N_"
      },
      "outputs": [],
      "source": [
        "# In the above code, the text is tokenized, which means it is divided into individual words or tokens.\n",
        "# The Tokenizer' object is created, which will handle the tokenization process. The 'fit_on_texts' method of the tokenizer is called, passing the 'text' as input.\n",
        "# This method analyzes the text and builds a vocabulary of unique words, assigning each word a numerical index.\n",
        "# The 'total_words' variable is then assigned the value of the length of the word index plus one,\n",
        "# representing the total number of distinct words in the text."
      ]
    },
    {
      "cell_type": "code",
      "execution_count": null,
      "metadata": {
        "id": "hzGWcdiP9Mu4"
      },
      "outputs": [],
      "source": [
        "input_sequences = []\n",
        "for line in text.split('\\n'):\n",
        "  token_list = tokenizer.texts_to_sequences([line])[0]\n",
        "  for i in range(1, len(token_list)):\n",
        "    n_gram_sequence = token_list[:i+1]\n",
        "    input_sequences.append(n_gram_sequence)"
      ]
    },
    {
      "cell_type": "code",
      "execution_count": null,
      "metadata": {
        "id": "P93j_dP1-dVs"
      },
      "outputs": [],
      "source": [
        "# in the above code, the text data is split into lines using the '\\n' character as a delimiter. For each line in the text, texts_to_sequences'\n",
        "# method of the tokenizer is used to convert the line into a sequence of numerical tokens based on the previously created vocabulary.\n",
        "# The resulting token list is then iterated over using a for loop. each iteration, a subsequence, or n-gram, of tokens is extracted, ranging from the beginning of the token list up to the current index 'I'.\n",
        "# This n-gram sequence represents the input context, with the last token being the target or predicted word. This n-gram sequence is then appended to the 'input_sequences' list.\n",
        "# This process is repeated for all lines in the text, generating multiple input-output sequences that will be used for training the next word prediction model."
      ]
    },
    {
      "cell_type": "code",
      "execution_count": null,
      "metadata": {
        "id": "KmQbwBeb_T1B"
      },
      "outputs": [],
      "source": [
        "max_sequence_len = max([len(seq) for seq in input_sequences])\n",
        "input_sequences = np.array(pad_sequences(input_sequences, maxlen=max_sequence_len, padding='pre'))"
      ]
    },
    {
      "cell_type": "code",
      "execution_count": null,
      "metadata": {
        "id": "VDBpyRti_xCe"
      },
      "outputs": [],
      "source": [
        "# In the above code, the input sequences are padded to ensure all sequences have the same length.\n",
        "# The variable max_sequence_len' is assigned the maximum length among all the input sequences. The 'pad_sequences'\n",
        "# function is used to pad or truncate the input sequences to match this maximum length.\n",
        "\n",
        "\n",
        "# The 'pad_sequences' function takes the input_sequences list, sets the maximum length to 'max_sequence_len',\n",
        "# and specifies that the padding should be added at the beginning of each sequence using the 'padding=pre'\n",
        "# argument.\n",
        "# Finally,Now the input sequences are converted into a numpy array to facilitate further processing.\n",
        "# let's split the sequences into input and output:"
      ]
    },
    {
      "cell_type": "code",
      "execution_count": null,
      "metadata": {
        "id": "yryOZ3_mANWX"
      },
      "outputs": [],
      "source": [
        "x = input_sequences[:, :-1]\n",
        "y = input_sequences[:, -1]"
      ]
    },
    {
      "cell_type": "code",
      "execution_count": null,
      "metadata": {
        "id": "tg8j_wqvAffQ"
      },
      "outputs": [],
      "source": [
        "y = np.array(tf.keras.utils.to_categorical(y, num_classes=total_words))"
      ]
    },
    {
      "cell_type": "code",
      "execution_count": null,
      "metadata": {
        "id": "YBGHkrBWA75R"
      },
      "outputs": [],
      "source": [
        "# in the above code , we are converting the ouput array into a suitable format for training a model, where each\n",
        "# target word is represented as a binary\n",
        "\n",
        "# now let's build a neural architecture to train the model:"
      ]
    },
    {
      "cell_type": "code",
      "execution_count": null,
      "metadata": {
        "colab": {
          "base_uri": "https://localhost:8080/"
        },
        "id": "44jlIDXGBT-q",
        "outputId": "9eeb7a71-044d-405c-aab1-8eb75d5eda33"
      },
      "outputs": [
        {
          "name": "stdout",
          "output_type": "stream",
          "text": [
            "Model: \"sequential\"\n",
            "_________________________________________________________________\n",
            " Layer (type)                Output Shape              Param #   \n",
            "=================================================================\n",
            " embedding (Embedding)       (None, 17, 100)           820000    \n",
            "                                                                 \n",
            " lstm (LSTM)                 (None, 150)               150600    \n",
            "                                                                 \n",
            " dense (Dense)               (None, 8200)              1238200   \n",
            "                                                                 \n",
            "=================================================================\n",
            "Total params: 2208800 (8.43 MB)\n",
            "Trainable params: 2208800 (8.43 MB)\n",
            "Non-trainable params: 0 (0.00 Byte)\n",
            "_________________________________________________________________\n",
            "None\n"
          ]
        }
      ],
      "source": [
        "model = Sequential()\n",
        "model.add(Embedding(total_words, 100, input_length= max_sequence_len-1))\n",
        "model.add(LSTM(150))\n",
        "model.add(Dense(total_words, activation = 'softmax'))\n",
        "print(model.summary())"
      ]
    },
    {
      "cell_type": "code",
      "execution_count": null,
      "metadata": {
        "id": "2uzqWg6ABuzX"
      },
      "outputs": [],
      "source": [
        "# 'total_number' which represent the total number of distinct words in the vocabulary;\n",
        "# (2). '100', which denotes the dimensionality of the word embeddings;\n",
        "\n",
        "#  (3). and input_length', which specifies the length of the input sequences.\n",
        "\n",
        "# The next layer added is the 'LSTM' layer, a type of recurrent neural network (RNN) layer designed for\n",
        "# capturing dependencies in the data. It has 150 units, which means it will learn 150 internal representations or memory cells\n",
        "\n",
        "# Finally, the 'Dense' layer is added, which is a fully connected layer that produces the output predictions.\n",
        "# It has 'total_words' units and uses the 'softmax' activation function to convert the predicted scores into probabilities,\n",
        "# indicating the likelihood of each word being the next one in the sequence.\n",
        "\n",
        "# Now let's compile and train the model:"
      ]
    },
    {
      "cell_type": "code",
      "execution_count": null,
      "metadata": {
        "colab": {
          "background_save": true,
          "base_uri": "https://localhost:8080/"
        },
        "id": "k1gEm25yDKbU",
        "outputId": "c5e30655-d626-4458-d6e8-73e7f1ec3770"
      },
      "outputs": [
        {
          "name": "stdout",
          "output_type": "stream",
          "text": [
            "Epoch 1/100\n",
            "3010/3010 [==============================] - 227s 74ms/step - loss: 6.2511 - accuracy: 0.0770\n",
            "Epoch 2/100\n",
            "3010/3010 [==============================] - 214s 71ms/step - loss: 5.5134 - accuracy: 0.1249\n",
            "Epoch 3/100\n",
            "3010/3010 [==============================] - 205s 68ms/step - loss: 5.1266 - accuracy: 0.1474\n",
            "Epoch 4/100\n",
            "3010/3010 [==============================] - 203s 67ms/step - loss: 4.7953 - accuracy: 0.1668\n",
            "Epoch 5/100\n",
            "3010/3010 [==============================] - 199s 66ms/step - loss: 4.4886 - accuracy: 0.1838\n",
            "Epoch 6/100\n",
            "3010/3010 [==============================] - 196s 65ms/step - loss: 4.2009 - accuracy: 0.2043\n",
            "Epoch 7/100\n",
            "3010/3010 [==============================] - 213s 71ms/step - loss: 3.9275 - accuracy: 0.2295\n",
            "Epoch 8/100\n",
            "3010/3010 [==============================] - 223s 74ms/step - loss: 3.6687 - accuracy: 0.2596\n",
            "Epoch 9/100\n",
            "3010/3010 [==============================] - 214s 71ms/step - loss: 3.4256 - accuracy: 0.2920\n",
            "Epoch 10/100\n",
            "3010/3010 [==============================] - 212s 70ms/step - loss: 3.1988 - accuracy: 0.3283\n",
            "Epoch 11/100\n",
            "3010/3010 [==============================] - 203s 68ms/step - loss: 2.9869 - accuracy: 0.3629\n",
            "Epoch 12/100\n",
            "3010/3010 [==============================] - 195s 65ms/step - loss: 2.7924 - accuracy: 0.3966\n",
            "Epoch 13/100\n",
            "3010/3010 [==============================] - 197s 65ms/step - loss: 2.6122 - accuracy: 0.4308\n",
            "Epoch 14/100\n",
            "3010/3010 [==============================] - 196s 65ms/step - loss: 2.4466 - accuracy: 0.4637\n",
            "Epoch 15/100\n",
            "3010/3010 [==============================] - 187s 62ms/step - loss: 2.2955 - accuracy: 0.4934\n",
            "Epoch 16/100\n",
            "3010/3010 [==============================] - 187s 62ms/step - loss: 2.1544 - accuracy: 0.5229\n",
            "Epoch 17/100\n",
            "3010/3010 [==============================] - 184s 61ms/step - loss: 2.0250 - accuracy: 0.5484\n",
            "Epoch 18/100\n",
            "3010/3010 [==============================] - 181s 60ms/step - loss: 1.9078 - accuracy: 0.5727\n",
            "Epoch 19/100\n",
            "3010/3010 [==============================] - 182s 61ms/step - loss: 1.8001 - accuracy: 0.5953\n",
            "Epoch 20/100\n",
            "3010/3010 [==============================] - 183s 61ms/step - loss: 1.7017 - accuracy: 0.6182\n",
            "Epoch 21/100\n",
            "3010/3010 [==============================] - 180s 60ms/step - loss: 1.6096 - accuracy: 0.6374\n",
            "Epoch 22/100\n",
            "3010/3010 [==============================] - 183s 61ms/step - loss: 1.5276 - accuracy: 0.6551\n",
            "Epoch 23/100\n",
            "3010/3010 [==============================] - 184s 61ms/step - loss: 1.4518 - accuracy: 0.6727\n",
            "Epoch 24/100\n",
            "3010/3010 [==============================] - 185s 61ms/step - loss: 1.3793 - accuracy: 0.6882\n",
            "Epoch 25/100\n",
            "3010/3010 [==============================] - 182s 60ms/step - loss: 1.3165 - accuracy: 0.7037\n",
            "Epoch 26/100\n",
            "3010/3010 [==============================] - 188s 63ms/step - loss: 1.2545 - accuracy: 0.7171\n",
            "Epoch 27/100\n",
            "3010/3010 [==============================] - 190s 63ms/step - loss: 1.2017 - accuracy: 0.7278\n",
            "Epoch 28/100\n",
            "1495/3010 [=============>................] - ETA: 1:42 - loss: 1.0707 - accuracy: 0.7622"
          ]
        }
      ],
      "source": [
        "model.compile(loss = 'categorical_crossentropy', optimizer='adam', metrics =['accuracy'])\n",
        "model.fit(x,y, epochs = 100, verbose =1)"
      ]
    },
    {
      "cell_type": "code",
      "execution_count": null,
      "metadata": {
        "id": "ab9__oYXDd1c"
      },
      "outputs": [],
      "source": [
        "# seed_text = 'I will leave if they\n",
        "\n",
        "seed_text = \"are you\"\n",
        "next_word = 3\n",
        "\n",
        "for _ in range(next_words):\n",
        "  token_list = tokenizer.texts_to_sequences([seed_text])[0]\n",
        "  token_list = pad_sequences([token_list], maxlen = max_sequence_len-1, padding='pre')\n",
        "  predicted = np.argmax(model.predict(token_list), axis =-1)\n",
        "\n",
        "  output_word =\"\"\n",
        "\n",
        "  for word, index in tokenizer.word_index.items():\n",
        "    if index == predicted:\n",
        "      output_word = word\n",
        "      break\n",
        "    seed_text += \" \" + oupput_word\n",
        "\n",
        "  print(seed_text)"
      ]
    },
    {
      "cell_type": "code",
      "execution_count": null,
      "metadata": {
        "id": "Iewl0gLcFJSV"
      },
      "outputs": [],
      "source": [
        "# The above code generates the next word predictions based on a given seed text. The 'seed_text' variable holds\n",
        "# the initial text. The 'next_words' variable determines the number of predictions to be generated. Inside the for\n",
        "# loop, the 'seed_text' is converted into a sequence of tokens using the tokenizer. The token sequence is padded\n",
        "# to match the maximum sequence length.\n",
        "\n",
        "\n",
        "# The model predicts the next word by calling the 'predict' method on the model with the padded token sequence.\n",
        "# The predicted word is obtained by finding the word with the highest probability score using 'np.argmax'. Then,\n",
        "# the predicted word is appended to the 'seed_text', and the process is repeated for the desired number of 'next_words'.\n",
        "# Finally, the 'seed_text' is printed, which contains the initial text followed by the generated predictions."
      ]
    },
    {
      "cell_type": "code",
      "execution_count": null,
      "metadata": {
        "id": "hHNMBJzhGlm8"
      },
      "outputs": [],
      "source": [
        "import tensorflow as tf\n",
        "import numpy as np\n",
        "from tensorflow import keras"
      ]
    },
    {
      "cell_type": "code",
      "source": [],
      "metadata": {
        "id": "3IjDK_zk0XWw"
      },
      "execution_count": null,
      "outputs": []
    }
  ],
  "metadata": {
    "colab": {
      "provenance": []
    },
    "kernelspec": {
      "display_name": "Python 3",
      "name": "python3"
    },
    "language_info": {
      "name": "python"
    }
  },
  "nbformat": 4,
  "nbformat_minor": 0
}