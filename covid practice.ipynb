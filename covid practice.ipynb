{
 "cells": [
  {
   "cell_type": "code",
   "execution_count": 1,
   "id": "6c2724d2",
   "metadata": {},
   "outputs": [],
   "source": [
    "import pandas as pd\n",
    "import numpy as np"
   ]
  },
  {
   "cell_type": "code",
   "execution_count": 4,
   "id": "636adbaa",
   "metadata": {},
   "outputs": [],
   "source": [
    "df = pd.read_csv(\"C:\\\\Users\\\\gajendra singh\\\\OneDrive\\\\Desktop\\\\pandas\\\\covid_toy.csv\")"
   ]
  },
  {
   "cell_type": "code",
   "execution_count": 5,
   "id": "6c0b79ea",
   "metadata": {},
   "outputs": [
    {
     "data": {
      "text/html": [
       "<div>\n",
       "<style scoped>\n",
       "    .dataframe tbody tr th:only-of-type {\n",
       "        vertical-align: middle;\n",
       "    }\n",
       "\n",
       "    .dataframe tbody tr th {\n",
       "        vertical-align: top;\n",
       "    }\n",
       "\n",
       "    .dataframe thead th {\n",
       "        text-align: right;\n",
       "    }\n",
       "</style>\n",
       "<table border=\"1\" class=\"dataframe\">\n",
       "  <thead>\n",
       "    <tr style=\"text-align: right;\">\n",
       "      <th></th>\n",
       "      <th>age</th>\n",
       "      <th>gender</th>\n",
       "      <th>fever</th>\n",
       "      <th>cough</th>\n",
       "      <th>city</th>\n",
       "      <th>has_covid</th>\n",
       "    </tr>\n",
       "  </thead>\n",
       "  <tbody>\n",
       "    <tr>\n",
       "      <th>0</th>\n",
       "      <td>60</td>\n",
       "      <td>Male</td>\n",
       "      <td>103.0</td>\n",
       "      <td>Mild</td>\n",
       "      <td>Kolkata</td>\n",
       "      <td>No</td>\n",
       "    </tr>\n",
       "    <tr>\n",
       "      <th>1</th>\n",
       "      <td>27</td>\n",
       "      <td>Male</td>\n",
       "      <td>100.0</td>\n",
       "      <td>Mild</td>\n",
       "      <td>Delhi</td>\n",
       "      <td>Yes</td>\n",
       "    </tr>\n",
       "    <tr>\n",
       "      <th>2</th>\n",
       "      <td>42</td>\n",
       "      <td>Male</td>\n",
       "      <td>101.0</td>\n",
       "      <td>Mild</td>\n",
       "      <td>Delhi</td>\n",
       "      <td>No</td>\n",
       "    </tr>\n",
       "    <tr>\n",
       "      <th>3</th>\n",
       "      <td>31</td>\n",
       "      <td>Female</td>\n",
       "      <td>98.0</td>\n",
       "      <td>Mild</td>\n",
       "      <td>Kolkata</td>\n",
       "      <td>No</td>\n",
       "    </tr>\n",
       "    <tr>\n",
       "      <th>4</th>\n",
       "      <td>65</td>\n",
       "      <td>Female</td>\n",
       "      <td>101.0</td>\n",
       "      <td>Mild</td>\n",
       "      <td>Mumbai</td>\n",
       "      <td>No</td>\n",
       "    </tr>\n",
       "  </tbody>\n",
       "</table>\n",
       "</div>"
      ],
      "text/plain": [
       "   age  gender  fever cough     city has_covid\n",
       "0   60    Male  103.0  Mild  Kolkata        No\n",
       "1   27    Male  100.0  Mild    Delhi       Yes\n",
       "2   42    Male  101.0  Mild    Delhi        No\n",
       "3   31  Female   98.0  Mild  Kolkata        No\n",
       "4   65  Female  101.0  Mild   Mumbai        No"
      ]
     },
     "execution_count": 5,
     "metadata": {},
     "output_type": "execute_result"
    }
   ],
   "source": [
    "df.head()"
   ]
  },
  {
   "cell_type": "code",
   "execution_count": 6,
   "id": "69439d99",
   "metadata": {},
   "outputs": [
    {
     "name": "stdout",
     "output_type": "stream",
     "text": [
      "<class 'pandas.core.frame.DataFrame'>\n",
      "RangeIndex: 100 entries, 0 to 99\n",
      "Data columns (total 6 columns):\n",
      " #   Column     Non-Null Count  Dtype  \n",
      "---  ------     --------------  -----  \n",
      " 0   age        100 non-null    int64  \n",
      " 1   gender     100 non-null    object \n",
      " 2   fever      90 non-null     float64\n",
      " 3   cough      100 non-null    object \n",
      " 4   city       100 non-null    object \n",
      " 5   has_covid  100 non-null    object \n",
      "dtypes: float64(1), int64(1), object(4)\n",
      "memory usage: 4.8+ KB\n"
     ]
    }
   ],
   "source": [
    "df.info()"
   ]
  },
  {
   "cell_type": "code",
   "execution_count": 7,
   "id": "5631920c",
   "metadata": {},
   "outputs": [
    {
     "data": {
      "text/plain": [
       "10"
      ]
     },
     "execution_count": 7,
     "metadata": {},
     "output_type": "execute_result"
    }
   ],
   "source": [
    "df['fever'].isnull().sum()"
   ]
  },
  {
   "cell_type": "code",
   "execution_count": 8,
   "id": "f2fc540f",
   "metadata": {},
   "outputs": [],
   "source": [
    "df['fever'].fillna(df['fever'].mean(),inplace=True)"
   ]
  },
  {
   "cell_type": "code",
   "execution_count": 9,
   "id": "88f36539",
   "metadata": {},
   "outputs": [
    {
     "data": {
      "text/plain": [
       "0"
      ]
     },
     "execution_count": 9,
     "metadata": {},
     "output_type": "execute_result"
    }
   ],
   "source": [
    "df['fever'].isnull().sum()"
   ]
  },
  {
   "cell_type": "code",
   "execution_count": 11,
   "id": "b1749bd7",
   "metadata": {},
   "outputs": [
    {
     "name": "stdout",
     "output_type": "stream",
     "text": [
      "<class 'pandas.core.frame.DataFrame'>\n",
      "RangeIndex: 100 entries, 0 to 99\n",
      "Data columns (total 6 columns):\n",
      " #   Column     Non-Null Count  Dtype  \n",
      "---  ------     --------------  -----  \n",
      " 0   age        100 non-null    int64  \n",
      " 1   gender     100 non-null    object \n",
      " 2   fever      100 non-null    float64\n",
      " 3   cough      100 non-null    object \n",
      " 4   city       100 non-null    object \n",
      " 5   has_covid  100 non-null    object \n",
      "dtypes: float64(1), int64(1), object(4)\n",
      "memory usage: 4.8+ KB\n"
     ]
    }
   ],
   "source": [
    "df.info()"
   ]
  },
  {
   "cell_type": "code",
   "execution_count": 12,
   "id": "23aa4b52",
   "metadata": {},
   "outputs": [],
   "source": [
    "from sklearn.preprocessing import LabelEncoder"
   ]
  },
  {
   "cell_type": "code",
   "execution_count": 14,
   "id": "54a64272",
   "metadata": {},
   "outputs": [],
   "source": [
    "lb = LabelEncoder()"
   ]
  },
  {
   "cell_type": "code",
   "execution_count": 15,
   "id": "bb62db61",
   "metadata": {},
   "outputs": [],
   "source": [
    "df['gender'] = lb.fit_transform(df['gender'])\n",
    "df['cough'] = lb.fit_transform(df['cough'])\n",
    "df['city'] = lb.fit_transform(df['city'])\n",
    "df['has_covid'] = lb.fit_transform(df['has_covid'])"
   ]
  },
  {
   "cell_type": "code",
   "execution_count": 16,
   "id": "3ca42eda",
   "metadata": {},
   "outputs": [
    {
     "data": {
      "text/html": [
       "<div>\n",
       "<style scoped>\n",
       "    .dataframe tbody tr th:only-of-type {\n",
       "        vertical-align: middle;\n",
       "    }\n",
       "\n",
       "    .dataframe tbody tr th {\n",
       "        vertical-align: top;\n",
       "    }\n",
       "\n",
       "    .dataframe thead th {\n",
       "        text-align: right;\n",
       "    }\n",
       "</style>\n",
       "<table border=\"1\" class=\"dataframe\">\n",
       "  <thead>\n",
       "    <tr style=\"text-align: right;\">\n",
       "      <th></th>\n",
       "      <th>age</th>\n",
       "      <th>gender</th>\n",
       "      <th>fever</th>\n",
       "      <th>cough</th>\n",
       "      <th>city</th>\n",
       "      <th>has_covid</th>\n",
       "    </tr>\n",
       "  </thead>\n",
       "  <tbody>\n",
       "    <tr>\n",
       "      <th>0</th>\n",
       "      <td>60</td>\n",
       "      <td>1</td>\n",
       "      <td>103.0</td>\n",
       "      <td>0</td>\n",
       "      <td>2</td>\n",
       "      <td>0</td>\n",
       "    </tr>\n",
       "    <tr>\n",
       "      <th>1</th>\n",
       "      <td>27</td>\n",
       "      <td>1</td>\n",
       "      <td>100.0</td>\n",
       "      <td>0</td>\n",
       "      <td>1</td>\n",
       "      <td>1</td>\n",
       "    </tr>\n",
       "    <tr>\n",
       "      <th>2</th>\n",
       "      <td>42</td>\n",
       "      <td>1</td>\n",
       "      <td>101.0</td>\n",
       "      <td>0</td>\n",
       "      <td>1</td>\n",
       "      <td>0</td>\n",
       "    </tr>\n",
       "    <tr>\n",
       "      <th>3</th>\n",
       "      <td>31</td>\n",
       "      <td>0</td>\n",
       "      <td>98.0</td>\n",
       "      <td>0</td>\n",
       "      <td>2</td>\n",
       "      <td>0</td>\n",
       "    </tr>\n",
       "    <tr>\n",
       "      <th>4</th>\n",
       "      <td>65</td>\n",
       "      <td>0</td>\n",
       "      <td>101.0</td>\n",
       "      <td>0</td>\n",
       "      <td>3</td>\n",
       "      <td>0</td>\n",
       "    </tr>\n",
       "  </tbody>\n",
       "</table>\n",
       "</div>"
      ],
      "text/plain": [
       "   age  gender  fever  cough  city  has_covid\n",
       "0   60       1  103.0      0     2          0\n",
       "1   27       1  100.0      0     1          1\n",
       "2   42       1  101.0      0     1          0\n",
       "3   31       0   98.0      0     2          0\n",
       "4   65       0  101.0      0     3          0"
      ]
     },
     "execution_count": 16,
     "metadata": {},
     "output_type": "execute_result"
    }
   ],
   "source": [
    "df.head()"
   ]
  },
  {
   "cell_type": "code",
   "execution_count": 17,
   "id": "9976aab9",
   "metadata": {},
   "outputs": [],
   "source": [
    "from sklearn.model_selection import train_test_split"
   ]
  },
  {
   "cell_type": "code",
   "execution_count": 18,
   "id": "1c4c1e36",
   "metadata": {},
   "outputs": [],
   "source": [
    "x = df.drop(columns = ['has_covid'], axis=1)\n",
    "y = df['has_covid']"
   ]
  },
  {
   "cell_type": "code",
   "execution_count": 19,
   "id": "bfa51378",
   "metadata": {},
   "outputs": [],
   "source": [
    "x_train, x_test, y_train, y_test = train_test_split(x,y,test_size=0.2, random_state = 42)"
   ]
  },
  {
   "cell_type": "code",
   "execution_count": 20,
   "id": "f5b8b77e",
   "metadata": {},
   "outputs": [
    {
     "data": {
      "text/html": [
       "<div>\n",
       "<style scoped>\n",
       "    .dataframe tbody tr th:only-of-type {\n",
       "        vertical-align: middle;\n",
       "    }\n",
       "\n",
       "    .dataframe tbody tr th {\n",
       "        vertical-align: top;\n",
       "    }\n",
       "\n",
       "    .dataframe thead th {\n",
       "        text-align: right;\n",
       "    }\n",
       "</style>\n",
       "<table border=\"1\" class=\"dataframe\">\n",
       "  <thead>\n",
       "    <tr style=\"text-align: right;\">\n",
       "      <th></th>\n",
       "      <th>age</th>\n",
       "      <th>gender</th>\n",
       "      <th>fever</th>\n",
       "      <th>cough</th>\n",
       "      <th>city</th>\n",
       "    </tr>\n",
       "  </thead>\n",
       "  <tbody>\n",
       "    <tr>\n",
       "      <th>count</th>\n",
       "      <td>80.0</td>\n",
       "      <td>80.0</td>\n",
       "      <td>80.0</td>\n",
       "      <td>80.0</td>\n",
       "      <td>80.0</td>\n",
       "    </tr>\n",
       "    <tr>\n",
       "      <th>mean</th>\n",
       "      <td>42.9</td>\n",
       "      <td>0.4</td>\n",
       "      <td>101.0</td>\n",
       "      <td>0.4</td>\n",
       "      <td>1.3</td>\n",
       "    </tr>\n",
       "    <tr>\n",
       "      <th>std</th>\n",
       "      <td>24.5</td>\n",
       "      <td>0.5</td>\n",
       "      <td>1.9</td>\n",
       "      <td>0.5</td>\n",
       "      <td>1.1</td>\n",
       "    </tr>\n",
       "    <tr>\n",
       "      <th>min</th>\n",
       "      <td>5.0</td>\n",
       "      <td>0.0</td>\n",
       "      <td>98.0</td>\n",
       "      <td>0.0</td>\n",
       "      <td>0.0</td>\n",
       "    </tr>\n",
       "    <tr>\n",
       "      <th>25%</th>\n",
       "      <td>20.0</td>\n",
       "      <td>0.0</td>\n",
       "      <td>100.0</td>\n",
       "      <td>0.0</td>\n",
       "      <td>0.0</td>\n",
       "    </tr>\n",
       "    <tr>\n",
       "      <th>50%</th>\n",
       "      <td>42.0</td>\n",
       "      <td>0.0</td>\n",
       "      <td>101.0</td>\n",
       "      <td>0.0</td>\n",
       "      <td>1.0</td>\n",
       "    </tr>\n",
       "    <tr>\n",
       "      <th>75%</th>\n",
       "      <td>65.0</td>\n",
       "      <td>1.0</td>\n",
       "      <td>102.0</td>\n",
       "      <td>1.0</td>\n",
       "      <td>2.0</td>\n",
       "    </tr>\n",
       "    <tr>\n",
       "      <th>max</th>\n",
       "      <td>84.0</td>\n",
       "      <td>1.0</td>\n",
       "      <td>104.0</td>\n",
       "      <td>1.0</td>\n",
       "      <td>3.0</td>\n",
       "    </tr>\n",
       "  </tbody>\n",
       "</table>\n",
       "</div>"
      ],
      "text/plain": [
       "        age  gender  fever  cough  city\n",
       "count  80.0    80.0   80.0   80.0  80.0\n",
       "mean   42.9     0.4  101.0    0.4   1.3\n",
       "std    24.5     0.5    1.9    0.5   1.1\n",
       "min     5.0     0.0   98.0    0.0   0.0\n",
       "25%    20.0     0.0  100.0    0.0   0.0\n",
       "50%    42.0     0.0  101.0    0.0   1.0\n",
       "75%    65.0     1.0  102.0    1.0   2.0\n",
       "max    84.0     1.0  104.0    1.0   3.0"
      ]
     },
     "execution_count": 20,
     "metadata": {},
     "output_type": "execute_result"
    }
   ],
   "source": [
    "np.round(x_train.describe(), 1)"
   ]
  },
  {
   "cell_type": "code",
   "execution_count": 21,
   "id": "b4ed3649",
   "metadata": {},
   "outputs": [],
   "source": [
    "from sklearn.preprocessing import StandardScaler"
   ]
  },
  {
   "cell_type": "code",
   "execution_count": 22,
   "id": "9167c6a5",
   "metadata": {},
   "outputs": [],
   "source": [
    "sc = StandardScaler()"
   ]
  },
  {
   "cell_type": "code",
   "execution_count": 29,
   "id": "aff63633",
   "metadata": {},
   "outputs": [],
   "source": [
    "x_train_scaled = sc.fit_transform(x_train)"
   ]
  },
  {
   "cell_type": "code",
   "execution_count": 30,
   "id": "7f9c82b0",
   "metadata": {},
   "outputs": [],
   "source": [
    "x_test_scaled = sc.fit(x_test)"
   ]
  },
  {
   "cell_type": "code",
   "execution_count": 31,
   "id": "acadbc81",
   "metadata": {},
   "outputs": [
    {
     "data": {
      "text/plain": [
       "array([[ 1.56614097, -0.83793058,  0.00912571, -0.81649658,  1.52973232],\n",
       "       [-1.55894504, -0.83793058, -0.51234344, -0.81649658,  0.62988978],\n",
       "       [-0.98327131, -0.83793058, -0.51234344, -0.81649658,  0.62988978],\n",
       "       [-0.65431488,  1.19341628, -0.51234344, -0.81649658, -0.26995276],\n",
       "       [ 1.23718454, -0.83793058,  1.05206401, -0.81649658, -0.26995276],\n",
       "       [ 1.11382589,  1.19341628,  1.05206401,  1.22474487,  0.62988978],\n",
       "       [ 0.25031528, -0.83793058,  0.53059486, -0.81649658, -0.26995276],\n",
       "       [ 0.33255438, -0.83793058,  0.00912571,  1.22474487,  0.62988978],\n",
       "       [ 0.86710857, -0.83793058,  0.00912571, -0.81649658, -0.26995276],\n",
       "       [ 1.64838007, -0.83793058,  0.00912571, -0.81649658,  0.62988978],\n",
       "       [ 0.90822812, -0.83793058, -1.55528174, -0.81649658,  1.52973232],\n",
       "       [-1.02439086, -0.83793058,  1.57353316, -0.81649658, -1.1697953 ],\n",
       "       [-1.10662996, -0.83793058,  1.05206401, -0.81649658, -1.1697953 ],\n",
       "       [-1.10662996,  1.19341628,  1.57353316, -0.81649658,  0.62988978],\n",
       "       [-0.65431488,  1.19341628, -0.51234344, -0.81649658,  0.62988978],\n",
       "       [ 1.68949962, -0.83793058, -0.07199171, -0.81649658, -1.1697953 ],\n",
       "       [ 0.33255438,  1.19341628,  1.57353316, -0.81649658,  0.62988978],\n",
       "       [ 1.07270633, -0.83793058,  0.53059486, -0.81649658, -1.1697953 ],\n",
       "       [ 1.60726052, -0.83793058,  0.53059486,  1.22474487, -1.1697953 ],\n",
       "       [ 1.07270633, -0.83793058,  1.05206401, -0.81649658,  0.62988978],\n",
       "       [ 0.04471751,  1.19341628,  1.57353316, -0.81649658,  1.52973232],\n",
       "       [ 1.2783041 ,  1.19341628,  0.53059486, -0.81649658,  1.52973232],\n",
       "       [-0.94215175, -0.83793058, -0.07199171,  1.22474487,  1.52973232],\n",
       "       [-1.27110817, -0.83793058,  1.57353316, -0.81649658, -1.1697953 ],\n",
       "       [-0.40759757, -0.83793058,  0.53059486,  1.22474487, -0.26995276],\n",
       "       [-0.03752159, -0.83793058, -0.07199171,  1.22474487, -1.1697953 ],\n",
       "       [ 0.90822812,  1.19341628, -1.03381259, -0.81649658, -0.26995276],\n",
       "       [-0.81879309,  1.19341628, -0.07199171, -0.81649658,  1.52973232],\n",
       "       [ 0.53815215, -0.83793058,  1.57353316,  1.22474487, -1.1697953 ],\n",
       "       [ 0.86710857,  1.19341628,  0.53059486, -0.81649658, -1.1697953 ],\n",
       "       [-1.22998862, -0.83793058, -0.51234344,  1.22474487,  0.62988978],\n",
       "       [-0.48983667, -0.83793058, -1.55528174, -0.81649658,  0.62988978],\n",
       "       [-0.1197607 , -0.83793058, -1.55528174,  1.22474487, -0.26995276],\n",
       "       [ 0.25031528, -0.83793058,  0.00912571, -0.81649658, -0.26995276],\n",
       "       [-0.98327131, -0.83793058, -0.51234344,  1.22474487, -1.1697953 ],\n",
       "       [-1.31222773,  1.19341628, -0.51234344, -0.81649658, -1.1697953 ],\n",
       "       [-1.18886907,  1.19341628,  0.00912571,  1.22474487, -1.1697953 ],\n",
       "       [-0.03752159,  1.19341628,  1.57353316, -0.81649658,  1.52973232],\n",
       "       [-0.2019998 , -0.83793058,  0.00912571, -0.81649658, -1.1697953 ],\n",
       "       [ 0.12695662,  1.19341628,  1.05206401,  1.22474487, -1.1697953 ],\n",
       "       [ 1.15494544,  1.19341628, -0.07199171,  1.22474487,  0.62988978],\n",
       "       [-1.35334728, -0.83793058, -1.55528174,  1.22474487,  0.62988978],\n",
       "       [ 0.70263036, -0.83793058, -1.03381259, -0.81649658,  1.52973232],\n",
       "       [-0.85991265, -0.83793058, -1.03381259, -0.81649658, -1.1697953 ],\n",
       "       [-0.98327131,  1.19341628,  0.00912571, -0.81649658, -0.26995276],\n",
       "       [ 0.90822812,  1.19341628, -1.03381259, -0.81649658, -1.1697953 ],\n",
       "       [-0.98327131, -0.83793058,  0.00912571, -0.81649658,  1.52973232],\n",
       "       [ 0.45591304, -0.83793058,  1.57353316,  1.22474487,  0.62988978],\n",
       "       [ 1.56614097, -0.83793058, -1.55528174,  1.22474487,  1.52973232],\n",
       "       [-0.94215175, -0.83793058,  0.00912571, -0.81649658, -1.1697953 ],\n",
       "       [ 0.20919572, -0.83793058,  1.05206401, -0.81649658,  0.62988978],\n",
       "       [ 1.60726052,  1.19341628, -0.07199171, -0.81649658,  0.62988978],\n",
       "       [-0.81879309,  1.19341628, -1.55528174,  1.22474487,  1.52973232],\n",
       "       [ 0.94934767,  1.19341628, -1.03381259,  1.22474487, -1.1697953 ],\n",
       "       [-1.55894504, -0.83793058, -1.55528174,  1.22474487,  1.52973232],\n",
       "       [ 0.25031528, -0.83793058, -1.03381259,  1.22474487, -1.1697953 ],\n",
       "       [-1.55894504,  1.19341628,  0.53059486, -0.81649658,  0.62988978],\n",
       "       [-0.36647801, -0.83793058,  0.00912571,  1.22474487, -0.26995276],\n",
       "       [ 1.48390186,  1.19341628, -0.07199171,  1.22474487,  0.62988978],\n",
       "       [-1.51782549, -0.83793058,  1.57353316, -0.81649658,  0.62988978],\n",
       "       [-1.35334728,  1.19341628, -0.51234344, -0.81649658, -1.1697953 ],\n",
       "       [ 1.07270633, -0.83793058, -1.55528174,  1.22474487,  1.52973232],\n",
       "       [ 0.49703259,  1.19341628, -0.51234344, -0.81649658,  0.62988978],\n",
       "       [-0.36647801, -0.83793058, -0.07199171,  1.22474487,  1.52973232],\n",
       "       [-0.65431488,  1.19341628, -0.51234344, -0.81649658, -0.26995276],\n",
       "       [ 0.16807617, -0.83793058, -0.51234344,  1.22474487, -1.1697953 ],\n",
       "       [ 1.23718454,  1.19341628, -1.55528174, -0.81649658, -1.1697953 ],\n",
       "       [-0.03752159,  1.19341628,  0.00912571, -0.81649658, -0.26995276],\n",
       "       [ 1.52502141, -0.83793058, -1.55528174, -0.81649658, -0.26995276],\n",
       "       [ 0.16807617,  1.19341628,  0.00912571,  1.22474487, -1.1697953 ],\n",
       "       [-0.2019998 ,  1.19341628, -0.07199171, -0.81649658, -0.26995276],\n",
       "       [-0.36647801, -0.83793058,  1.57353316,  1.22474487, -0.26995276],\n",
       "       [-0.73655399,  1.19341628,  1.57353316, -0.81649658, -1.1697953 ],\n",
       "       [-0.77767354,  1.19341628, -1.55528174, -0.81649658,  0.62988978],\n",
       "       [-1.27110817,  1.19341628, -1.55528174,  1.22474487, -1.1697953 ],\n",
       "       [-0.77767354, -0.83793058,  0.53059486,  1.22474487, -1.1697953 ],\n",
       "       [ 1.31942365, -0.83793058,  1.57353316,  1.22474487, -0.26995276],\n",
       "       [ 0.33255438,  1.19341628,  1.57353316, -0.81649658, -1.1697953 ],\n",
       "       [ 1.60726052, -0.83793058,  0.53059486,  1.22474487,  0.62988978],\n",
       "       [-1.31222773, -0.83793058, -0.51234344,  1.22474487,  0.62988978]])"
      ]
     },
     "execution_count": 31,
     "metadata": {},
     "output_type": "execute_result"
    }
   ],
   "source": [
    "x_train_scaled"
   ]
  },
  {
   "cell_type": "code",
   "execution_count": 32,
   "id": "110a6d43",
   "metadata": {},
   "outputs": [],
   "source": [
    "x_train_new = pd.DataFrame(x_train_scaled, columns = x_train.columns)"
   ]
  },
  {
   "cell_type": "code",
   "execution_count": 33,
   "id": "61e86248",
   "metadata": {},
   "outputs": [
    {
     "data": {
      "text/html": [
       "<div>\n",
       "<style scoped>\n",
       "    .dataframe tbody tr th:only-of-type {\n",
       "        vertical-align: middle;\n",
       "    }\n",
       "\n",
       "    .dataframe tbody tr th {\n",
       "        vertical-align: top;\n",
       "    }\n",
       "\n",
       "    .dataframe thead th {\n",
       "        text-align: right;\n",
       "    }\n",
       "</style>\n",
       "<table border=\"1\" class=\"dataframe\">\n",
       "  <thead>\n",
       "    <tr style=\"text-align: right;\">\n",
       "      <th></th>\n",
       "      <th>age</th>\n",
       "      <th>gender</th>\n",
       "      <th>fever</th>\n",
       "      <th>cough</th>\n",
       "      <th>city</th>\n",
       "    </tr>\n",
       "  </thead>\n",
       "  <tbody>\n",
       "    <tr>\n",
       "      <th>0</th>\n",
       "      <td>1.566141</td>\n",
       "      <td>-0.837931</td>\n",
       "      <td>0.009126</td>\n",
       "      <td>-0.816497</td>\n",
       "      <td>1.529732</td>\n",
       "    </tr>\n",
       "    <tr>\n",
       "      <th>1</th>\n",
       "      <td>-1.558945</td>\n",
       "      <td>-0.837931</td>\n",
       "      <td>-0.512343</td>\n",
       "      <td>-0.816497</td>\n",
       "      <td>0.629890</td>\n",
       "    </tr>\n",
       "    <tr>\n",
       "      <th>2</th>\n",
       "      <td>-0.983271</td>\n",
       "      <td>-0.837931</td>\n",
       "      <td>-0.512343</td>\n",
       "      <td>-0.816497</td>\n",
       "      <td>0.629890</td>\n",
       "    </tr>\n",
       "    <tr>\n",
       "      <th>3</th>\n",
       "      <td>-0.654315</td>\n",
       "      <td>1.193416</td>\n",
       "      <td>-0.512343</td>\n",
       "      <td>-0.816497</td>\n",
       "      <td>-0.269953</td>\n",
       "    </tr>\n",
       "    <tr>\n",
       "      <th>4</th>\n",
       "      <td>1.237185</td>\n",
       "      <td>-0.837931</td>\n",
       "      <td>1.052064</td>\n",
       "      <td>-0.816497</td>\n",
       "      <td>-0.269953</td>\n",
       "    </tr>\n",
       "    <tr>\n",
       "      <th>...</th>\n",
       "      <td>...</td>\n",
       "      <td>...</td>\n",
       "      <td>...</td>\n",
       "      <td>...</td>\n",
       "      <td>...</td>\n",
       "    </tr>\n",
       "    <tr>\n",
       "      <th>75</th>\n",
       "      <td>-0.777674</td>\n",
       "      <td>-0.837931</td>\n",
       "      <td>0.530595</td>\n",
       "      <td>1.224745</td>\n",
       "      <td>-1.169795</td>\n",
       "    </tr>\n",
       "    <tr>\n",
       "      <th>76</th>\n",
       "      <td>1.319424</td>\n",
       "      <td>-0.837931</td>\n",
       "      <td>1.573533</td>\n",
       "      <td>1.224745</td>\n",
       "      <td>-0.269953</td>\n",
       "    </tr>\n",
       "    <tr>\n",
       "      <th>77</th>\n",
       "      <td>0.332554</td>\n",
       "      <td>1.193416</td>\n",
       "      <td>1.573533</td>\n",
       "      <td>-0.816497</td>\n",
       "      <td>-1.169795</td>\n",
       "    </tr>\n",
       "    <tr>\n",
       "      <th>78</th>\n",
       "      <td>1.607261</td>\n",
       "      <td>-0.837931</td>\n",
       "      <td>0.530595</td>\n",
       "      <td>1.224745</td>\n",
       "      <td>0.629890</td>\n",
       "    </tr>\n",
       "    <tr>\n",
       "      <th>79</th>\n",
       "      <td>-1.312228</td>\n",
       "      <td>-0.837931</td>\n",
       "      <td>-0.512343</td>\n",
       "      <td>1.224745</td>\n",
       "      <td>0.629890</td>\n",
       "    </tr>\n",
       "  </tbody>\n",
       "</table>\n",
       "<p>80 rows × 5 columns</p>\n",
       "</div>"
      ],
      "text/plain": [
       "         age    gender     fever     cough      city\n",
       "0   1.566141 -0.837931  0.009126 -0.816497  1.529732\n",
       "1  -1.558945 -0.837931 -0.512343 -0.816497  0.629890\n",
       "2  -0.983271 -0.837931 -0.512343 -0.816497  0.629890\n",
       "3  -0.654315  1.193416 -0.512343 -0.816497 -0.269953\n",
       "4   1.237185 -0.837931  1.052064 -0.816497 -0.269953\n",
       "..       ...       ...       ...       ...       ...\n",
       "75 -0.777674 -0.837931  0.530595  1.224745 -1.169795\n",
       "76  1.319424 -0.837931  1.573533  1.224745 -0.269953\n",
       "77  0.332554  1.193416  1.573533 -0.816497 -1.169795\n",
       "78  1.607261 -0.837931  0.530595  1.224745  0.629890\n",
       "79 -1.312228 -0.837931 -0.512343  1.224745  0.629890\n",
       "\n",
       "[80 rows x 5 columns]"
      ]
     },
     "execution_count": 33,
     "metadata": {},
     "output_type": "execute_result"
    }
   ],
   "source": [
    "x_train_new"
   ]
  },
  {
   "cell_type": "code",
   "execution_count": 34,
   "id": "f4e0a75e",
   "metadata": {},
   "outputs": [
    {
     "data": {
      "text/html": [
       "<div>\n",
       "<style scoped>\n",
       "    .dataframe tbody tr th:only-of-type {\n",
       "        vertical-align: middle;\n",
       "    }\n",
       "\n",
       "    .dataframe tbody tr th {\n",
       "        vertical-align: top;\n",
       "    }\n",
       "\n",
       "    .dataframe thead th {\n",
       "        text-align: right;\n",
       "    }\n",
       "</style>\n",
       "<table border=\"1\" class=\"dataframe\">\n",
       "  <thead>\n",
       "    <tr style=\"text-align: right;\">\n",
       "      <th></th>\n",
       "      <th>age</th>\n",
       "      <th>gender</th>\n",
       "      <th>fever</th>\n",
       "      <th>cough</th>\n",
       "      <th>city</th>\n",
       "    </tr>\n",
       "  </thead>\n",
       "  <tbody>\n",
       "    <tr>\n",
       "      <th>count</th>\n",
       "      <td>80.0</td>\n",
       "      <td>80.0</td>\n",
       "      <td>80.0</td>\n",
       "      <td>80.0</td>\n",
       "      <td>80.0</td>\n",
       "    </tr>\n",
       "    <tr>\n",
       "      <th>mean</th>\n",
       "      <td>-0.0</td>\n",
       "      <td>0.0</td>\n",
       "      <td>-0.0</td>\n",
       "      <td>-0.0</td>\n",
       "      <td>-0.0</td>\n",
       "    </tr>\n",
       "    <tr>\n",
       "      <th>std</th>\n",
       "      <td>1.0</td>\n",
       "      <td>1.0</td>\n",
       "      <td>1.0</td>\n",
       "      <td>1.0</td>\n",
       "      <td>1.0</td>\n",
       "    </tr>\n",
       "    <tr>\n",
       "      <th>min</th>\n",
       "      <td>-1.6</td>\n",
       "      <td>-0.8</td>\n",
       "      <td>-1.6</td>\n",
       "      <td>-0.8</td>\n",
       "      <td>-1.2</td>\n",
       "    </tr>\n",
       "    <tr>\n",
       "      <th>25%</th>\n",
       "      <td>-0.9</td>\n",
       "      <td>-0.8</td>\n",
       "      <td>-0.5</td>\n",
       "      <td>-0.8</td>\n",
       "      <td>-1.2</td>\n",
       "    </tr>\n",
       "    <tr>\n",
       "      <th>50%</th>\n",
       "      <td>-0.0</td>\n",
       "      <td>-0.8</td>\n",
       "      <td>0.0</td>\n",
       "      <td>-0.8</td>\n",
       "      <td>-0.3</td>\n",
       "    </tr>\n",
       "    <tr>\n",
       "      <th>75%</th>\n",
       "      <td>0.9</td>\n",
       "      <td>1.2</td>\n",
       "      <td>0.5</td>\n",
       "      <td>1.2</td>\n",
       "      <td>0.6</td>\n",
       "    </tr>\n",
       "    <tr>\n",
       "      <th>max</th>\n",
       "      <td>1.7</td>\n",
       "      <td>1.2</td>\n",
       "      <td>1.6</td>\n",
       "      <td>1.2</td>\n",
       "      <td>1.5</td>\n",
       "    </tr>\n",
       "  </tbody>\n",
       "</table>\n",
       "</div>"
      ],
      "text/plain": [
       "        age  gender  fever  cough  city\n",
       "count  80.0    80.0   80.0   80.0  80.0\n",
       "mean   -0.0     0.0   -0.0   -0.0  -0.0\n",
       "std     1.0     1.0    1.0    1.0   1.0\n",
       "min    -1.6    -0.8   -1.6   -0.8  -1.2\n",
       "25%    -0.9    -0.8   -0.5   -0.8  -1.2\n",
       "50%    -0.0    -0.8    0.0   -0.8  -0.3\n",
       "75%     0.9     1.2    0.5    1.2   0.6\n",
       "max     1.7     1.2    1.6    1.2   1.5"
      ]
     },
     "execution_count": 34,
     "metadata": {},
     "output_type": "execute_result"
    }
   ],
   "source": [
    "np.round(x_train_new.describe(), 1)"
   ]
  },
  {
   "cell_type": "code",
   "execution_count": null,
   "id": "9ee22d97",
   "metadata": {},
   "outputs": [],
   "source": []
  }
 ],
 "metadata": {
  "kernelspec": {
   "display_name": "Python 3 (ipykernel)",
   "language": "python",
   "name": "python3"
  },
  "language_info": {
   "codemirror_mode": {
    "name": "ipython",
    "version": 3
   },
   "file_extension": ".py",
   "mimetype": "text/x-python",
   "name": "python",
   "nbconvert_exporter": "python",
   "pygments_lexer": "ipython3",
   "version": "3.11.4"
  }
 },
 "nbformat": 4,
 "nbformat_minor": 5
}
