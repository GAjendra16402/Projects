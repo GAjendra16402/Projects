{
 "cells": [
  {
   "cell_type": "code",
   "execution_count": null,
   "id": "a9c3ad90",
   "metadata": {},
   "outputs": [],
   "source": [
    "import cv2\n",
    "import numpy\n",
    "path = input(\"Enter the path and Name of an image :\")\n",
    "print(\"you enter this ==\", path)\n",
    "\n",
    "# now read image\n",
    "img1 = cv2.imread(path, 0)\n",
    "img1 = cv2.resize(img1, (560,700))\n",
    "img1 = cv2.flip(img1, 0)\n",
    "cv2.imshow(\"Converted Image :\", img1)\n",
    "\n",
    "k = cv2.waitKey(0)\n",
    "if k ==ord(\"s\"):\n",
    "    cv2.imwrite(\"C:\\\\Users\\\\gajendra singh\\\\OneDrive\\\\Desktop\\\\picture\\\\bull.png\",img1)\n",
    "else:\n",
    "    cv2.destroyAllWindows()"
   ]
  },
  {
   "cell_type": "code",
   "execution_count": null,
   "id": "5aca0197",
   "metadata": {},
   "outputs": [],
   "source": [
    "import cv2\n",
    "import numpy\n",
    "\n",
    "cap = cv2.VideoCapture(0, cv2.CAP_DSHOW)\n",
    "\n",
    "# DIVX, XVID, MJPG, X264, WMV1, WMV2\n",
    "fourcc = cv2.VideoWriter_fourcc(*\"XVID\")\n",
    "# It contains 4 parameters: name, codec, fps, resolution\n",
    "output = cv2.VideoWriter(\"C:\\\\Users\\\\gajendra singh\\\\OneDrive\\\\Desktop\\\\picture.avi\", fourcc, 20.0, (640, 480))  # Specify the file extension (e.g., .avi)\n",
    "\n",
    "while cap.isOpened():\n",
    "    ret, frame = cap.read()\n",
    "    if ret == True:\n",
    "        gray = cv2.cvtColor(frame, cv2.COLOR_BGR2GRAY)\n",
    "        # frame = cv2.flip(frame, 0)  # If you want to flip the video horizontally\n",
    "\n",
    "        cv2.imshow('frame', frame)\n",
    "        cv2.imshow('gray', gray)\n",
    "\n",
    "        output.write(frame)  # Save original frames into the video file\n",
    "        # output.write(gray)  # If you want to save grayscale frames into the video file\n",
    "\n",
    "        if cv2.waitKey(1) & 0xFF == ord('q'):\n",
    "            break\n",
    "\n",
    "cap.release()\n",
    "output.release()\n",
    "cv2.destroyAllWindows()\n"
   ]
  },
  {
   "cell_type": "code",
   "execution_count": null,
   "id": "1b193a7a",
   "metadata": {},
   "outputs": [],
   "source": []
  }
 ],
 "metadata": {
  "kernelspec": {
   "display_name": "Python 3 (ipykernel)",
   "language": "python",
   "name": "python3"
  },
  "language_info": {
   "codemirror_mode": {
    "name": "ipython",
    "version": 3
   },
   "file_extension": ".py",
   "mimetype": "text/x-python",
   "name": "python",
   "nbconvert_exporter": "python",
   "pygments_lexer": "ipython3",
   "version": "3.11.4"
  }
 },
 "nbformat": 4,
 "nbformat_minor": 5
}
