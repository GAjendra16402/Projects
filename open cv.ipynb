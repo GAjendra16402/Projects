{
 "cells": [
  {
   "cell_type": "code",
   "execution_count": 1,
   "id": "11ae597c",
   "metadata": {},
   "outputs": [],
   "source": [
    "import cv2\n",
    "import numpy"
   ]
  },
  {
   "cell_type": "code",
   "execution_count": 2,
   "id": "b452b0c5",
   "metadata": {},
   "outputs": [
    {
     "name": "stdout",
     "output_type": "stream",
     "text": [
      "[[[192 190 189]\n",
      "  [195 192 191]\n",
      "  [197 195 194]\n",
      "  ...\n",
      "  [197 195 194]\n",
      "  [195 192 191]\n",
      "  [192 190 189]]\n",
      "\n",
      " [[194 192 190]\n",
      "  [196 194 193]\n",
      "  [199 197 195]\n",
      "  ...\n",
      "  [199 197 195]\n",
      "  [196 194 193]\n",
      "  [194 192 190]]\n",
      "\n",
      " [[195 192 191]\n",
      "  [197 195 194]\n",
      "  [199 197 196]\n",
      "  ...\n",
      "  [199 197 196]\n",
      "  [197 195 194]\n",
      "  [195 192 191]]\n",
      "\n",
      " ...\n",
      "\n",
      " [[195 192 191]\n",
      "  [197 195 194]\n",
      "  [199 197 196]\n",
      "  ...\n",
      "  [199 197 196]\n",
      "  [197 195 194]\n",
      "  [195 192 191]]\n",
      "\n",
      " [[194 192 190]\n",
      "  [196 194 193]\n",
      "  [199 197 195]\n",
      "  ...\n",
      "  [199 197 195]\n",
      "  [196 194 193]\n",
      "  [194 192 190]]\n",
      "\n",
      " [[192 190 189]\n",
      "  [195 192 191]\n",
      "  [197 195 194]\n",
      "  ...\n",
      "  [197 195 194]\n",
      "  [195 192 191]\n",
      "  [192 190 189]]]\n"
     ]
    }
   ],
   "source": [
    "img1 = cv2.imread(\"C:\\\\Users\\\\gajendra singh\\\\OneDrive\\\\Desktop\\\\picture\\\\bull eye 1.png\")# here 1 is used for color pixels.\n",
    "img1 = cv2.resize(img1, (100,200)) # width, height\n",
    "print(img1)\n",
    "cv2.imshow(\"Original Image:\", img1)\n",
    "\n",
    "cv2.waitKey(4000) # it will open our image for 4000 mili seconds\n",
    "cv2.destroyAllWindows()"
   ]
  },
  {
   "cell_type": "code",
   "execution_count": 3,
   "id": "7b3988d4",
   "metadata": {
    "scrolled": true
   },
   "outputs": [
    {
     "name": "stdout",
     "output_type": "stream",
     "text": [
      "[[[192 190 189]\n",
      "  [195 192 191]\n",
      "  [197 195 194]\n",
      "  ...\n",
      "  [197 195 194]\n",
      "  [195 192 191]\n",
      "  [192 190 189]]\n",
      "\n",
      " [[194 192 190]\n",
      "  [196 194 193]\n",
      "  [199 197 195]\n",
      "  ...\n",
      "  [199 197 195]\n",
      "  [196 194 193]\n",
      "  [194 192 190]]\n",
      "\n",
      " [[195 192 191]\n",
      "  [197 195 194]\n",
      "  [199 197 196]\n",
      "  ...\n",
      "  [199 197 196]\n",
      "  [197 195 194]\n",
      "  [195 192 191]]\n",
      "\n",
      " ...\n",
      "\n",
      " [[195 192 191]\n",
      "  [197 195 194]\n",
      "  [199 197 196]\n",
      "  ...\n",
      "  [199 197 196]\n",
      "  [197 195 194]\n",
      "  [195 192 191]]\n",
      "\n",
      " [[194 192 190]\n",
      "  [196 194 193]\n",
      "  [199 197 195]\n",
      "  ...\n",
      "  [199 197 195]\n",
      "  [196 194 193]\n",
      "  [194 192 190]]\n",
      "\n",
      " [[192 190 189]\n",
      "  [195 192 191]\n",
      "  [197 195 194]\n",
      "  ...\n",
      "  [197 195 194]\n",
      "  [195 192 191]\n",
      "  [192 190 189]]]\n",
      "Image in grey scale: [[189 189 189 ... 189 189 189]\n",
      " [189 189 189 ... 189 189 189]\n",
      " [189 189 189 ... 189 189 189]\n",
      " ...\n",
      " [189 189 189 ... 189 189 189]\n",
      " [189 189 189 ... 189 189 189]\n",
      " [189 189 189 ... 189 189 189]]\n"
     ]
    }
   ],
   "source": [
    "# gray scale image\n",
    "img2 = cv2.imread(\"C:\\\\Users\\\\gajendra singh\\\\OneDrive\\\\Desktop\\\\picture\\\\bull.png\", 0)\n",
    "img2 = cv2.resize(img2, (500,800)) # width, height\n",
    "print(img1)\n",
    "cv2.imshow(\"gray scale image:\", img2)\n",
    "print(\"Image in grey scale:\", img2)\n",
    "\n",
    "cv2.waitKey(4000) # it will open our image for 4000 mili seconds\n",
    "cv2.destroyAllWindows()"
   ]
  },
  {
   "cell_type": "code",
   "execution_count": 4,
   "id": "31c925cf",
   "metadata": {},
   "outputs": [
    {
     "name": "stdout",
     "output_type": "stream",
     "text": [
      "Image in new scale: [[[0 0 0 0]\n",
      "  [0 0 0 0]\n",
      "  [0 0 0 0]\n",
      "  ...\n",
      "  [0 0 0 0]\n",
      "  [0 0 0 0]\n",
      "  [0 0 0 0]]\n",
      "\n",
      " [[0 0 0 0]\n",
      "  [0 0 0 0]\n",
      "  [0 0 0 0]\n",
      "  ...\n",
      "  [0 0 0 0]\n",
      "  [0 0 0 0]\n",
      "  [0 0 0 0]]\n",
      "\n",
      " [[0 0 0 0]\n",
      "  [0 0 0 0]\n",
      "  [0 0 0 0]\n",
      "  ...\n",
      "  [0 0 0 0]\n",
      "  [0 0 0 0]\n",
      "  [0 0 0 0]]\n",
      "\n",
      " ...\n",
      "\n",
      " [[0 0 0 0]\n",
      "  [0 0 0 0]\n",
      "  [0 0 0 0]\n",
      "  ...\n",
      "  [0 0 0 0]\n",
      "  [0 0 0 0]\n",
      "  [0 0 0 0]]\n",
      "\n",
      " [[0 0 0 0]\n",
      "  [0 0 0 0]\n",
      "  [0 0 0 0]\n",
      "  ...\n",
      "  [0 0 0 0]\n",
      "  [0 0 0 0]\n",
      "  [0 0 0 0]]\n",
      "\n",
      " [[0 0 0 0]\n",
      "  [0 0 0 0]\n",
      "  [0 0 0 0]\n",
      "  ...\n",
      "  [0 0 0 0]\n",
      "  [0 0 0 0]\n",
      "  [0 0 0 0]]]\n"
     ]
    }
   ],
   "source": [
    "# gray scale image\n",
    "img3 = cv2.imread(\"C:\\\\Users\\\\gajendra singh\\\\OneDrive\\\\Desktop\\\\picture\\\\bull's.png\", -1)\n",
    "img3 = cv2.resize(img3, (500,800)) # width, height\n",
    "cv2.imshow(\"new image:\", img3)\n",
    "print(\"Image in new scale:\", img3)\n",
    "\n",
    "cv2.waitKey(4000) # it will open our image for 4000 mili seconds\n",
    "cv2.destroyAllWindows()"
   ]
  },
  {
   "cell_type": "code",
   "execution_count": 5,
   "id": "f514dab5",
   "metadata": {},
   "outputs": [
    {
     "name": "stdout",
     "output_type": "stream",
     "text": [
      "Enter the path and Name of an image :C:\\\\Users\\\\gajendra singh\\\\OneDrive\\\\Desktop\\\\picture\\\\bull.png\n",
      "you enter this == C:\\\\Users\\\\gajendra singh\\\\OneDrive\\\\Desktop\\\\picture\\\\bull.png\n"
     ]
    }
   ],
   "source": []
  },
  {
   "cell_type": "code",
   "execution_count": 7,
   "id": "131ad6e4",
   "metadata": {},
   "outputs": [],
   "source": []
  },
  {
   "cell_type": "code",
   "execution_count": null,
   "id": "b516cf98",
   "metadata": {},
   "outputs": [],
   "source": []
  },
  {
   "cell_type": "code",
   "execution_count": null,
   "id": "109c1966",
   "metadata": {},
   "outputs": [],
   "source": []
  }
 ],
 "metadata": {
  "kernelspec": {
   "display_name": "Python 3 (ipykernel)",
   "language": "python",
   "name": "python3"
  },
  "language_info": {
   "codemirror_mode": {
    "name": "ipython",
    "version": 3
   },
   "file_extension": ".py",
   "mimetype": "text/x-python",
   "name": "python",
   "nbconvert_exporter": "python",
   "pygments_lexer": "ipython3",
   "version": "3.11.4"
  }
 },
 "nbformat": 4,
 "nbformat_minor": 5
}
